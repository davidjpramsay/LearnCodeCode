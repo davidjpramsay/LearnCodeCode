{
 "cells": [
  {
   "cell_type": "markdown",
   "id": "b954d450-02e7-4039-9920-db91fa890a56",
   "metadata": {
    "tags": []
   },
   "source": [
    "# Learn Python"
   ]
  },
  {
   "cell_type": "markdown",
   "id": "d11f7b77-36e7-4f0c-9949-40783691fbca",
   "metadata": {},
   "source": [
    "Using Jupyter Lab to will doing the [Learn Python - Full Course for Beginners [Tutorial]](https://www.youtube.com/watch?v=rfscVS0vtbw&t=0s) course. Hopefully it will familirise me with Jupyter at the same time."
   ]
  },
  {
   "cell_type": "markdown",
   "id": "81f386a9-a1d7-4c16-8c02-4ef757ceb8f3",
   "metadata": {},
   "source": [
    "> Notice Jupyter doesnt requie `print()` to display output."
   ]
  },
  {
   "cell_type": "markdown",
   "id": "db8c14cc-8083-4a64-8773-03cbc3435957",
   "metadata": {},
   "source": [
    "## Working with Strings"
   ]
  },
  {
   "cell_type": "code",
   "execution_count": 2,
   "id": "0763d44d-5d42-4fba-9574-b9d17c86e921",
   "metadata": {},
   "outputs": [
    {
     "name": "stdout",
     "output_type": "stream",
     "text": [
      "Ramsay Academy\n"
     ]
    }
   ],
   "source": [
    "phrase = \"Ramsay Academy\"\n",
    "print(phrase)"
   ]
  },
  {
   "cell_type": "code",
   "execution_count": 3,
   "id": "5f2632a3-8c02-4065-972a-04c39dc3d789",
   "metadata": {},
   "outputs": [
    {
     "name": "stdout",
     "output_type": "stream",
     "text": [
      "RAMSAY ACADEMY\n"
     ]
    }
   ],
   "source": [
    "print(phrase.upper())"
   ]
  },
  {
   "cell_type": "code",
   "execution_count": 5,
   "id": "170a4ae8-b5b6-4db5-9b7b-b36db01bc05e",
   "metadata": {},
   "outputs": [
    {
     "name": "stdout",
     "output_type": "stream",
     "text": [
      "False\n"
     ]
    }
   ],
   "source": [
    "print(phrase.isupper())"
   ]
  },
  {
   "cell_type": "code",
   "execution_count": 6,
   "id": "cc6e65a9-72f8-4cae-bdc8-ec0c5ad40303",
   "metadata": {},
   "outputs": [
    {
     "name": "stdout",
     "output_type": "stream",
     "text": [
      "True\n"
     ]
    }
   ],
   "source": [
    "print(phrase.upper().isupper())"
   ]
  },
  {
   "cell_type": "code",
   "execution_count": 7,
   "id": "1a4aa4df-a0af-44e4-bce0-780815404954",
   "metadata": {},
   "outputs": [
    {
     "name": "stdout",
     "output_type": "stream",
     "text": [
      "True\n"
     ]
    }
   ],
   "source": [
    "phrase = phrase.upper()\n",
    "print(phrase.isupper())"
   ]
  },
  {
   "cell_type": "code",
   "execution_count": 8,
   "id": "292ffe0a-f3ea-435d-ad43-75c1ae0fe671",
   "metadata": {},
   "outputs": [
    {
     "data": {
      "text/plain": [
       "14"
      ]
     },
     "execution_count": 8,
     "metadata": {},
     "output_type": "execute_result"
    }
   ],
   "source": [
    "len(phrase)"
   ]
  },
  {
   "cell_type": "code",
   "execution_count": 9,
   "id": "29f61e75-3116-45a0-9acd-a2f355011df7",
   "metadata": {},
   "outputs": [
    {
     "name": "stdout",
     "output_type": "stream",
     "text": [
      "14\n"
     ]
    }
   ],
   "source": [
    "print(len(phrase))"
   ]
  },
  {
   "cell_type": "code",
   "execution_count": 10,
   "id": "ed59c368-3313-4224-988f-cec53b5b8e1d",
   "metadata": {},
   "outputs": [
    {
     "data": {
      "text/plain": [
       "'RAMSAY ACADEMY'"
      ]
     },
     "execution_count": 10,
     "metadata": {},
     "output_type": "execute_result"
    }
   ],
   "source": [
    "phrase"
   ]
  },
  {
   "cell_type": "markdown",
   "id": "39502955-6908-4238-bdf1-b950ec194875",
   "metadata": {},
   "source": [
    "## Working with Numbers"
   ]
  },
  {
   "cell_type": "code",
   "execution_count": 11,
   "id": "aac80b27-2163-47e6-a750-ba6f23e5a0e8",
   "metadata": {},
   "outputs": [
    {
     "data": {
      "text/plain": [
       "13.5"
      ]
     },
     "execution_count": 11,
     "metadata": {},
     "output_type": "execute_result"
    }
   ],
   "source": [
    "3 * 4.5"
   ]
  },
  {
   "cell_type": "code",
   "execution_count": 12,
   "id": "5a6fd062-3f80-4c1d-ab74-8a5ea92089ca",
   "metadata": {},
   "outputs": [
    {
     "data": {
      "text/plain": [
       "27"
      ]
     },
     "execution_count": 12,
     "metadata": {},
     "output_type": "execute_result"
    }
   ],
   "source": [
    "3 * (4+5)"
   ]
  },
  {
   "cell_type": "code",
   "execution_count": 13,
   "id": "71ba5514-4728-4df4-90c0-92515280295d",
   "metadata": {},
   "outputs": [
    {
     "data": {
      "text/plain": [
       "1"
      ]
     },
     "execution_count": 13,
     "metadata": {},
     "output_type": "execute_result"
    }
   ],
   "source": [
    "10%3"
   ]
  },
  {
   "cell_type": "code",
   "execution_count": 14,
   "id": "523438a4-86d2-4761-a5fd-bfb178a22359",
   "metadata": {},
   "outputs": [],
   "source": [
    "my_num = 5"
   ]
  },
  {
   "cell_type": "code",
   "execution_count": 15,
   "id": "06d3f816-9841-4e01-90be-5cf051d352f1",
   "metadata": {},
   "outputs": [
    {
     "data": {
      "text/plain": [
       "5"
      ]
     },
     "execution_count": 15,
     "metadata": {},
     "output_type": "execute_result"
    }
   ],
   "source": [
    "my_num"
   ]
  },
  {
   "cell_type": "code",
   "execution_count": 16,
   "id": "93828b5d-57b3-47a5-886d-6bd925a349d8",
   "metadata": {},
   "outputs": [
    {
     "name": "stdout",
     "output_type": "stream",
     "text": [
      "5\n"
     ]
    }
   ],
   "source": [
    "print(my_num)"
   ]
  },
  {
   "cell_type": "code",
   "execution_count": 17,
   "id": "1240eb75-ab36-40a6-b948-8a6a020200b8",
   "metadata": {},
   "outputs": [
    {
     "data": {
      "text/plain": [
       "'5'"
      ]
     },
     "execution_count": 17,
     "metadata": {},
     "output_type": "execute_result"
    }
   ],
   "source": [
    "str(my_num)"
   ]
  },
  {
   "cell_type": "code",
   "execution_count": 18,
   "id": "2b88201f-7805-4cef-a52a-9d84442d7570",
   "metadata": {},
   "outputs": [
    {
     "name": "stdout",
     "output_type": "stream",
     "text": [
      "5\n"
     ]
    }
   ],
   "source": [
    "print(str(my_num))"
   ]
  },
  {
   "cell_type": "code",
   "execution_count": 19,
   "id": "edad2104-2f9d-4c4f-b985-e7123b1c9da8",
   "metadata": {},
   "outputs": [
    {
     "data": {
      "text/plain": [
       "5"
      ]
     },
     "execution_count": 19,
     "metadata": {},
     "output_type": "execute_result"
    }
   ],
   "source": [
    "abs(-5)"
   ]
  },
  {
   "cell_type": "code",
   "execution_count": 20,
   "id": "7cc68821-6050-4086-9298-aa263a496bef",
   "metadata": {},
   "outputs": [
    {
     "data": {
      "text/plain": [
       "8"
      ]
     },
     "execution_count": 20,
     "metadata": {},
     "output_type": "execute_result"
    }
   ],
   "source": [
    "pow(2,3)"
   ]
  },
  {
   "cell_type": "code",
   "execution_count": 2,
   "id": "6d2afaea-e04b-4b92-86ec-abc864e20602",
   "metadata": {},
   "outputs": [],
   "source": [
    "from math import *"
   ]
  },
  {
   "cell_type": "markdown",
   "id": "b16b9e36-dbc8-48d8-839a-7f021d840268",
   "metadata": {},
   "source": [
    "It appears the math library is standard with fairly vanilla python install. `import math` will import the math module. Any functions that you use would have to be used as math.sqrt, math.ceil, etc. `from math import *` will import all functions from math. Any functions that you use can be used as sqrt, ceil, etc. "
   ]
  },
  {
   "cell_type": "code",
   "execution_count": 3,
   "id": "9c8f3efc-a673-44ca-a189-d9c422f8258f",
   "metadata": {},
   "outputs": [
    {
     "data": {
      "text/plain": [
       "2.0"
      ]
     },
     "execution_count": 3,
     "metadata": {},
     "output_type": "execute_result"
    }
   ],
   "source": [
    "log(100,10)"
   ]
  },
  {
   "cell_type": "code",
   "execution_count": 25,
   "id": "cabd9c60-11b5-4f63-b1b6-06d272a0e5f5",
   "metadata": {},
   "outputs": [
    {
     "data": {
      "text/plain": [
       "6"
      ]
     },
     "execution_count": 25,
     "metadata": {},
     "output_type": "execute_result"
    }
   ],
   "source": [
    "max(4,6)"
   ]
  },
  {
   "cell_type": "code",
   "execution_count": 27,
   "id": "45f1cd70-c98a-439f-8700-7e349e32018f",
   "metadata": {},
   "outputs": [
    {
     "data": {
      "text/plain": [
       "3.0"
      ]
     },
     "execution_count": 27,
     "metadata": {},
     "output_type": "execute_result"
    }
   ],
   "source": [
    "round(3.2,0)"
   ]
  },
  {
   "cell_type": "code",
   "execution_count": 29,
   "id": "db036b5b-75c5-48a6-a6be-c35f1f24de1d",
   "metadata": {},
   "outputs": [
    {
     "data": {
      "text/plain": [
       "3"
      ]
     },
     "execution_count": 29,
     "metadata": {},
     "output_type": "execute_result"
    }
   ],
   "source": [
    "round(3.2)"
   ]
  },
  {
   "cell_type": "markdown",
   "id": "f525e009-51ed-4f7d-b418-7ecc4ee5bf67",
   "metadata": {},
   "source": [
    "Interesting the round function output in line 27 verses line 29"
   ]
  },
  {
   "cell_type": "code",
   "execution_count": 5,
   "id": "f3ad4720-e025-43fb-a1d8-81757da6bd46",
   "metadata": {},
   "outputs": [
    {
     "data": {
      "text/plain": [
       "3"
      ]
     },
     "execution_count": 5,
     "metadata": {},
     "output_type": "execute_result"
    }
   ],
   "source": [
    "ceil(2.2)"
   ]
  },
  {
   "cell_type": "code",
   "execution_count": 6,
   "id": "3efae2a1-8809-4ec9-a87f-8ac8aa724fa9",
   "metadata": {},
   "outputs": [
    {
     "data": {
      "text/plain": [
       "2"
      ]
     },
     "execution_count": 6,
     "metadata": {},
     "output_type": "execute_result"
    }
   ],
   "source": [
    "floor(2.9)"
   ]
  },
  {
   "cell_type": "code",
   "execution_count": 8,
   "id": "ab9c6d1e-62ea-4df9-b299-02990f6e867c",
   "metadata": {},
   "outputs": [
    {
     "data": {
      "text/plain": [
       "1.7320508075688772"
      ]
     },
     "execution_count": 8,
     "metadata": {},
     "output_type": "execute_result"
    }
   ],
   "source": [
    "sqrt(3)"
   ]
  },
  {
   "cell_type": "markdown",
   "id": "c028e8fc-d934-4322-8814-bc1ce4073f88",
   "metadata": {},
   "source": [
    "## Getting Input from the User"
   ]
  },
  {
   "cell_type": "code",
   "execution_count": 1,
   "id": "24b75f30-9fe1-42db-babf-a16eba992310",
   "metadata": {},
   "outputs": [
    {
     "name": "stdin",
     "output_type": "stream",
     "text": [
      "Give me your name:  dude\n"
     ]
    }
   ],
   "source": [
    "name = input(\"Give me your name: \")"
   ]
  },
  {
   "cell_type": "code",
   "execution_count": 2,
   "id": "e240041a-4e2c-4eef-a8cc-f20f901cbbb3",
   "metadata": {},
   "outputs": [
    {
     "name": "stdout",
     "output_type": "stream",
     "text": [
      "Hello dude!\n"
     ]
    }
   ],
   "source": [
    "print(\"Hello \" + name +\"!\")"
   ]
  },
  {
   "cell_type": "code",
   "execution_count": 3,
   "id": "daea584e-92f4-47f0-966f-0c3f638733ba",
   "metadata": {},
   "outputs": [
    {
     "name": "stdin",
     "output_type": "stream",
     "text": [
      "Give me your age:  43\n"
     ]
    },
    {
     "name": "stdout",
     "output_type": "stream",
     "text": [
      "Hello my dude you are 43\n"
     ]
    }
   ],
   "source": [
    "age = input(\"Give me your age: \")\n",
    "print(\"Hello my \" + name + \" you are \" + age)"
   ]
  },
  {
   "cell_type": "markdown",
   "id": "b0b61ffa-0d3a-485f-a8a1-ae0e2898e146",
   "metadata": {},
   "source": [
    "## Building a basic Calculator"
   ]
  },
  {
   "cell_type": "code",
   "execution_count": 7,
   "id": "57473975-d8bc-4ef9-93e7-b4f82170035a",
   "metadata": {},
   "outputs": [
    {
     "name": "stdin",
     "output_type": "stream",
     "text": [
      "Give me the first number. 3\n",
      "Give me the second number. 5.4\n"
     ]
    },
    {
     "name": "stdout",
     "output_type": "stream",
     "text": [
      "8.4\n"
     ]
    }
   ],
   "source": [
    "num1 = input(\"Give me the first number.\")\n",
    "num2 = input(\"Give me the second number.\")\n",
    "result = float(num1) + float(num2)\n",
    "print(result)"
   ]
  },
  {
   "cell_type": "markdown",
   "id": "48257fe5-634a-47b3-ae8f-9efd1a76af67",
   "metadata": {},
   "source": [
    "## Mad Libs Game"
   ]
  },
  {
   "cell_type": "code",
   "execution_count": 1,
   "id": "0310ca7c-dedb-4b60-a8ef-317cd57dee94",
   "metadata": {
    "tags": []
   },
   "outputs": [
    {
     "name": "stdin",
     "output_type": "stream",
     "text": [
      "Give me a colour blue\n",
      "Give me a plural noun blue\n",
      "Give me a celebrity blue\n"
     ]
    },
    {
     "name": "stdout",
     "output_type": "stream",
     "text": [
      "Roses are blue\n",
      "blue are blue\n",
      "I love blue\n"
     ]
    }
   ],
   "source": [
    "colour = input(\"Give me a colour\")\n",
    "plural_noun = input(\"Give me a plural noun\")\n",
    "celebrity = input(\"Give me a celebrity\")\n",
    "print(\"Roses are \" + colour)\n",
    "print(plural_noun + \" are blue\")\n",
    "print(\"I love \" + celebrity)"
   ]
  },
  {
   "cell_type": "markdown",
   "id": "0f02467c-826c-43b8-bc2e-8bf00730d7c0",
   "metadata": {},
   "source": [
    "## Working with Lists"
   ]
  },
  {
   "cell_type": "code",
   "execution_count": null,
   "id": "2ad5cf84-fd25-4eb0-8fba-46db17c00c21",
   "metadata": {},
   "outputs": [],
   "source": []
  }
 ],
 "metadata": {
  "kernelspec": {
   "display_name": "Python 3",
   "language": "python",
   "name": "python3"
  },
  "language_info": {
   "codemirror_mode": {
    "name": "ipython",
    "version": 3
   },
   "file_extension": ".py",
   "mimetype": "text/x-python",
   "name": "python",
   "nbconvert_exporter": "python",
   "pygments_lexer": "ipython3",
   "version": "3.9.6"
  }
 },
 "nbformat": 4,
 "nbformat_minor": 5
}
