{
 "cells": [
  {
   "cell_type": "markdown",
   "id": "b954d450-02e7-4039-9920-db91fa890a56",
   "metadata": {
    "tags": []
   },
   "source": [
    "# Learn Python"
   ]
  },
  {
   "cell_type": "markdown",
   "id": "db8c14cc-8083-4a64-8773-03cbc3435957",
   "metadata": {},
   "source": [
    "## Working with Strings"
   ]
  },
  {
   "cell_type": "code",
   "execution_count": 2,
   "id": "0763d44d-5d42-4fba-9574-b9d17c86e921",
   "metadata": {},
   "outputs": [
    {
     "name": "stdout",
     "output_type": "stream",
     "text": [
      "Ramsay Academy\n"
     ]
    }
   ],
   "source": [
    "phrase = \"Ramsay Academy\"\n",
    "print(phrase)"
   ]
  },
  {
   "cell_type": "code",
   "execution_count": 3,
   "id": "5f2632a3-8c02-4065-972a-04c39dc3d789",
   "metadata": {},
   "outputs": [
    {
     "name": "stdout",
     "output_type": "stream",
     "text": [
      "RAMSAY ACADEMY\n"
     ]
    }
   ],
   "source": [
    "print(phrase.upper())"
   ]
  },
  {
   "cell_type": "code",
   "execution_count": 5,
   "id": "170a4ae8-b5b6-4db5-9b7b-b36db01bc05e",
   "metadata": {},
   "outputs": [
    {
     "name": "stdout",
     "output_type": "stream",
     "text": [
      "False\n"
     ]
    }
   ],
   "source": [
    "print(phrase.isupper())"
   ]
  },
  {
   "cell_type": "code",
   "execution_count": 6,
   "id": "cc6e65a9-72f8-4cae-bdc8-ec0c5ad40303",
   "metadata": {},
   "outputs": [
    {
     "name": "stdout",
     "output_type": "stream",
     "text": [
      "True\n"
     ]
    }
   ],
   "source": [
    "print(phrase.upper().isupper())"
   ]
  },
  {
   "cell_type": "code",
   "execution_count": 7,
   "id": "1a4aa4df-a0af-44e4-bce0-780815404954",
   "metadata": {},
   "outputs": [
    {
     "name": "stdout",
     "output_type": "stream",
     "text": [
      "True\n"
     ]
    }
   ],
   "source": [
    "phrase = phrase.upper()\n",
    "print(phrase.isupper())"
   ]
  },
  {
   "cell_type": "code",
   "execution_count": null,
   "id": "292ffe0a-f3ea-435d-ad43-75c1ae0fe671",
   "metadata": {},
   "outputs": [],
   "source": []
  }
 ],
 "metadata": {
  "kernelspec": {
   "display_name": "Python 3",
   "language": "python",
   "name": "python3"
  },
  "language_info": {
   "codemirror_mode": {
    "name": "ipython",
    "version": 3
   },
   "file_extension": ".py",
   "mimetype": "text/x-python",
   "name": "python",
   "nbconvert_exporter": "python",
   "pygments_lexer": "ipython3",
   "version": "3.9.6"
  }
 },
 "nbformat": 4,
 "nbformat_minor": 5
}
